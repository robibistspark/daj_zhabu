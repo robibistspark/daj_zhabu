{
 "cells": [
  {
   "cell_type": "markdown",
   "id": "2fa2deb7",
   "metadata": {},
   "source": [
    "## Тексты песен: анализ тональности (дай жабу)"
   ]
  },
  {
   "cell_type": "code",
   "execution_count": 22,
   "id": "4221986f",
   "metadata": {},
   "outputs": [],
   "source": [
    "import text2emotion as te\n",
    "import json"
   ]
  },
  {
   "cell_type": "markdown",
   "id": "d4e5ed96",
   "metadata": {},
   "source": [
    "Скачиваем все песни из файла с названиями и текстами песен:"
   ]
  },
  {
   "cell_type": "code",
   "execution_count": 8,
   "id": "ae6d4616",
   "metadata": {},
   "outputs": [],
   "source": [
    "full_text = []\n",
    "for line in open('.\\genius-expertise\\lyrics.jl', 'r', encoding='utf-8'):\n",
    "    full_text.append(json.loads(line))"
   ]
  },
  {
   "cell_type": "markdown",
   "id": "207ee2ec",
   "metadata": {},
   "source": [
    "Вытаскиваем оттуда 50 песен любого артиста, например, Эминема:"
   ]
  },
  {
   "cell_type": "code",
   "execution_count": 65,
   "id": "58466100",
   "metadata": {},
   "outputs": [],
   "source": [
    "eminem_songs = []\n",
    "i = 0\n",
    "for song in full_text:\n",
    "    if 'Eminem' in song['song']:\n",
    "        eminem_songs.append(song)\n",
    "        i += 1\n",
    "        if i == 50:\n",
    "            break"
   ]
  },
  {
   "cell_type": "markdown",
   "id": "78d01361",
   "metadata": {},
   "source": [
    "Как видно ниже, в получившемся списке содержится 50 песен."
   ]
  },
  {
   "cell_type": "code",
   "execution_count": 66,
   "id": "519ca3df",
   "metadata": {},
   "outputs": [
    {
     "name": "stdout",
     "output_type": "stream",
     "text": [
      "50\n"
     ]
    }
   ],
   "source": [
    "print(len(eminem_songs))"
   ]
  },
  {
   "cell_type": "markdown",
   "id": "03c8e216",
   "metadata": {},
   "source": [
    "Теперь попробуем выяснить, какие эмоции превалируют в песнях Эминема. Создаём словарь, в котором ключ - название песни, а значение - результат обработки текста соответствующей песни модулем text2emotion:"
   ]
  },
  {
   "cell_type": "code",
   "execution_count": 88,
   "id": "aa00809e",
   "metadata": {},
   "outputs": [
    {
     "name": "stdout",
     "output_type": "stream",
     "text": [
      "{'Eminem-arose-lyrics': {'Happy': 0.11, 'Angry': 0.06, 'Surprise': 0.26, 'Sad': 0.33, 'Fear': 0.23}, 'Eminem-ass-like-that-lyrics': {'Happy': 0.23, 'Angry': 0.12, 'Surprise': 0.2, 'Sad': 0.33, 'Fear': 0.12}, 'Eminem-cold-wind-blows-lyrics': {'Happy': 0.14, 'Angry': 0.09, 'Surprise': 0.39, 'Sad': 0.22, 'Fear': 0.16}, 'Eminem-just-lose-it-lyrics': {'Happy': 0.06, 'Angry': 0.02, 'Surprise': 0.35, 'Sad': 0.33, 'Fear': 0.25}, 'Eminem-bad-husband-lyrics': {'Happy': 0.23, 'Angry': 0.09, 'Surprise': 0.26, 'Sad': 0.26, 'Fear': 0.16}}\n"
     ]
    }
   ],
   "source": [
    "songs_emotions = {}\n",
    "for song in eminem_songs:\n",
    "    lyrics = song['lyrics']\n",
    "    songs_emotions[song['song']] = te.get_emotion(lyrics)\n",
    "\n",
    "print(songs_emotions)"
   ]
  },
  {
   "cell_type": "markdown",
   "id": "82e5019b",
   "metadata": {},
   "source": [
    "Вот так выглядит итоговый словарь. Теперь на его материале можно создать график (этим у нас занималась Ира Политова)."
   ]
  },
  {
   "cell_type": "code",
   "execution_count": 90,
   "id": "fce57115",
   "metadata": {},
   "outputs": [
    {
     "name": "stdout",
     "output_type": "stream",
     "text": [
      "{'Eminem-killshot-lyrics': {'Happy': 0.12, 'Angry': 0.15, 'Surprise': 0.23, 'Sad': 0.25, 'Fear': 0.25}, 'Eminem-rap-god-lyrics': {'Happy': 0.11, 'Angry': 0.07, 'Surprise': 0.33, 'Sad': 0.26, 'Fear': 0.24}, 'Eminem-lose-yourself-lyrics': {'Happy': 0.1, 'Angry': 0.05, 'Surprise': 0.28, 'Sad': 0.27, 'Fear': 0.29}, 'Eminem-the-monster-lyrics': {'Happy': 0.14, 'Angry': 0.02, 'Surprise': 0.36, 'Sad': 0.11, 'Fear': 0.37}, 'Eminem-kamikaze-lyrics': {'Happy': 0.05, 'Angry': 0.07, 'Surprise': 0.37, 'Sad': 0.23, 'Fear': 0.28}, 'Eminem-without-me-lyrics': {'Happy': 0.09, 'Angry': 0.08, 'Surprise': 0.35, 'Sad': 0.23, 'Fear': 0.25}, 'Eminem-bad-guy-lyrics': {'Happy': 0.09, 'Angry': 0.08, 'Surprise': 0.29, 'Sad': 0.28, 'Fear': 0.25}, 'Eminem-the-real-slim-shady-lyrics': {'Happy': 0.09, 'Angry': 0.04, 'Surprise': 0.14, 'Sad': 0.41, 'Fear': 0.32}, 'Eminem-love-the-way-you-lie-lyrics': {'Happy': 0.16, 'Angry': 0.07, 'Surprise': 0.22, 'Sad': 0.27, 'Fear': 0.28}, 'Eminem-no-love-lyrics': {'Happy': 0.27, 'Angry': 0.13, 'Surprise': 0.2, 'Sad': 0.19, 'Fear': 0.22}, 'Eminem-headlights-lyrics': {'Happy': 0.13, 'Angry': 0.06, 'Surprise': 0.28, 'Sad': 0.27, 'Fear': 0.26}, 'Eminem-not-afraid-lyrics': {'Happy': 0.09, 'Angry': 0.06, 'Surprise': 0.28, 'Sad': 0.22, 'Fear': 0.35}, 'Eminem-greatest-lyrics': {'Happy': 0.13, 'Angry': 0.13, 'Surprise': 0.35, 'Sad': 0.18, 'Fear': 0.22}, 'Eminem-beautiful-lyrics': {'Happy': 0.16, 'Angry': 0.11, 'Surprise': 0.2, 'Sad': 0.24, 'Fear': 0.28}, 'Eminem-when-im-gone-lyrics': {'Happy': 0.15, 'Angry': 0.06, 'Surprise': 0.21, 'Sad': 0.29, 'Fear': 0.29}, 'Eminem-cleanin-out-my-closet-lyrics': {'Happy': 0.05, 'Angry': 0.03, 'Surprise': 0.28, 'Sad': 0.44, 'Fear': 0.2}, 'Eminem-my-name-is-lyrics': {'Happy': 0.12, 'Angry': 0.12, 'Surprise': 0.32, 'Sad': 0.15, 'Fear': 0.29}, 'Eminem-space-bound-lyrics': {'Happy': 0.13, 'Angry': 0.05, 'Surprise': 0.2, 'Sad': 0.34, 'Fear': 0.28}, 'Eminem-guts-over-fear-lyrics': {'Happy': 0.1, 'Angry': 0.09, 'Surprise': 0.19, 'Sad': 0.37, 'Fear': 0.25}, 'Eminem-like-toy-soldiers-lyrics': {'Happy': 0.11, 'Angry': 0.1, 'Surprise': 0.22, 'Sad': 0.3, 'Fear': 0.27}, 'Eminem-the-way-i-am-lyrics': {'Happy': 0.15, 'Angry': 0.02, 'Surprise': 0.3, 'Sad': 0.23, 'Fear': 0.31}, 'Eminem-superman-lyrics': {'Happy': 0.2, 'Angry': 0.03, 'Surprise': 0.31, 'Sad': 0.29, 'Fear': 0.17}, 'Eminem-sing-for-the-moment-lyrics': {'Happy': 0.15, 'Angry': 0.11, 'Surprise': 0.28, 'Sad': 0.3, 'Fear': 0.17}, 'Eminem-detroit-vs-everybody-lyrics': {'Happy': 0.1, 'Angry': 0.11, 'Surprise': 0.26, 'Sad': 0.3, 'Fear': 0.23}, 'Eminem-untouchable-lyrics': {'Happy': 0.11, 'Angry': 0.05, 'Surprise': 0.27, 'Sad': 0.22, 'Fear': 0.35}, 'Eminem-so-much-better-lyrics': {'Happy': 0.08, 'Angry': 0.03, 'Surprise': 0.35, 'Sad': 0.26, 'Fear': 0.28}, 'Eminem-marshall-mathers-lyrics': {'Happy': 0.14, 'Angry': 0.1, 'Surprise': 0.21, 'Sad': 0.32, 'Fear': 0.24}, 'Eminem-stepping-stone-lyrics': {'Happy': 0.06, 'Angry': 0.1, 'Surprise': 0.24, 'Sad': 0.29, 'Fear': 0.31}, 'Eminem-criminal-lyrics': {'Happy': 0.07, 'Angry': 0.13, 'Surprise': 0.33, 'Sad': 0.3, 'Fear': 0.17}, 'Eminem-chloraseptic-remix-lyrics': {'Happy': 0.09, 'Angry': 0.06, 'Surprise': 0.26, 'Sad': 0.27, 'Fear': 0.32}, 'Eminem-kings-never-die-lyrics': {'Happy': 0.09, 'Angry': 0.1, 'Surprise': 0.32, 'Sad': 0.2, 'Fear': 0.29}, 'Eminem-im-back-lyrics': {'Happy': 0.11, 'Angry': 0.08, 'Surprise': 0.35, 'Sad': 0.16, 'Fear': 0.3}, 'Eminem-asshole-lyrics': {'Happy': 0.13, 'Angry': 0.08, 'Surprise': 0.34, 'Sad': 0.25, 'Fear': 0.21}, 'Eminem-just-dont-give-a-fuck-lyrics': {'Happy': 0.2, 'Angry': 0.1, 'Surprise': 0.16, 'Sad': 0.27, 'Fear': 0.27}, 'Eminem-phenomenal-lyrics': {'Happy': 0.07, 'Angry': 0.07, 'Surprise': 0.36, 'Sad': 0.22, 'Fear': 0.27}, 'Eminem-infinite-lyrics': {'Happy': 0.06, 'Angry': 0.05, 'Surprise': 0.28, 'Sad': 0.22, 'Fear': 0.39}, 'Eminem-white-america-lyrics': {'Happy': 0.21, 'Angry': 0.09, 'Surprise': 0.18, 'Sad': 0.11, 'Fear': 0.42}, 'Eminem-good-guy-lyrics': {'Happy': 0.22, 'Angry': 0.05, 'Surprise': 0.15, 'Sad': 0.25, 'Fear': 0.33}, 'Eminem-normal-lyrics': {'Happy': 0.07, 'Angry': 0.08, 'Surprise': 0.32, 'Sad': 0.26, 'Fear': 0.26}, 'Eminem-bet-shady-20-cypher-lyrics': {'Happy': 0.09, 'Angry': 0.1, 'Surprise': 0.21, 'Sad': 0.32, 'Fear': 0.29}, 'Eminem-brainless-lyrics': {'Happy': 0.13, 'Angry': 0.09, 'Surprise': 0.26, 'Sad': 0.2, 'Fear': 0.33}, 'Eminem-and-jessie-reyez-nice-guy-lyrics': {'Happy': 0.17, 'Angry': 0.13, 'Surprise': 0.2, 'Sad': 0.27, 'Fear': 0.23}, 'Eminem-fack-lyrics': {'Happy': 0.27, 'Angry': 0.01, 'Surprise': 0.39, 'Sad': 0.16, 'Fear': 0.17}, 'Eminem-framed-lyrics': {'Happy': 0.07, 'Angry': 0.07, 'Surprise': 0.24, 'Sad': 0.3, 'Fear': 0.32}, 'Eminem-hailies-song-lyrics': {'Happy': 0.16, 'Angry': 0.02, 'Surprise': 0.27, 'Sad': 0.26, 'Fear': 0.29}, 'Eminem-arose-lyrics': {'Happy': 0.11, 'Angry': 0.06, 'Surprise': 0.26, 'Sad': 0.33, 'Fear': 0.23}, 'Eminem-ass-like-that-lyrics': {'Happy': 0.23, 'Angry': 0.12, 'Surprise': 0.2, 'Sad': 0.33, 'Fear': 0.12}, 'Eminem-cold-wind-blows-lyrics': {'Happy': 0.14, 'Angry': 0.09, 'Surprise': 0.39, 'Sad': 0.22, 'Fear': 0.16}, 'Eminem-just-lose-it-lyrics': {'Happy': 0.06, 'Angry': 0.02, 'Surprise': 0.35, 'Sad': 0.33, 'Fear': 0.25}, 'Eminem-bad-husband-lyrics': {'Happy': 0.23, 'Angry': 0.09, 'Surprise': 0.26, 'Sad': 0.26, 'Fear': 0.16}}\n"
     ]
    }
   ],
   "source": [
    "the_emotions_dict = {'Eminem-killshot-lyrics': {'Happy': 0.12, 'Angry': 0.15, 'Surprise': 0.23, 'Sad': 0.25, 'Fear': 0.25}, 'Eminem-rap-god-lyrics': {'Happy': 0.11, 'Angry': 0.07, 'Surprise': 0.33, 'Sad': 0.26, 'Fear': 0.24}, 'Eminem-lose-yourself-lyrics': {'Happy': 0.1, 'Angry': 0.05, 'Surprise': 0.28, 'Sad': 0.27, 'Fear': 0.29}, 'Eminem-the-monster-lyrics': {'Happy': 0.14, 'Angry': 0.02, 'Surprise': 0.36, 'Sad': 0.11, 'Fear': 0.37}, 'Eminem-kamikaze-lyrics': {'Happy': 0.05, 'Angry': 0.07, 'Surprise': 0.37, 'Sad': 0.23, 'Fear': 0.28}, 'Eminem-without-me-lyrics': {'Happy': 0.09, 'Angry': 0.08, 'Surprise': 0.35, 'Sad': 0.23, 'Fear': 0.25}, 'Eminem-bad-guy-lyrics': {'Happy': 0.09, 'Angry': 0.08, 'Surprise': 0.29, 'Sad': 0.28, 'Fear': 0.25}, 'Eminem-the-real-slim-shady-lyrics': {'Happy': 0.09, 'Angry': 0.04, 'Surprise': 0.14, 'Sad': 0.41, 'Fear': 0.32}, 'Eminem-love-the-way-you-lie-lyrics': {'Happy': 0.16, 'Angry': 0.07, 'Surprise': 0.22, 'Sad': 0.27, 'Fear': 0.28}, 'Eminem-no-love-lyrics': {'Happy': 0.27, 'Angry': 0.13, 'Surprise': 0.2, 'Sad': 0.19, 'Fear': 0.22}, 'Eminem-headlights-lyrics': {'Happy': 0.13, 'Angry': 0.06, 'Surprise': 0.28, 'Sad': 0.27, 'Fear': 0.26}, 'Eminem-not-afraid-lyrics': {'Happy': 0.09, 'Angry': 0.06, 'Surprise': 0.28, 'Sad': 0.22, 'Fear': 0.35}, 'Eminem-greatest-lyrics': {'Happy': 0.13, 'Angry': 0.13, 'Surprise': 0.35, 'Sad': 0.18, 'Fear': 0.22}, 'Eminem-beautiful-lyrics': {'Happy': 0.16, 'Angry': 0.11, 'Surprise': 0.2, 'Sad': 0.24, 'Fear': 0.28}, 'Eminem-when-im-gone-lyrics': {'Happy': 0.15, 'Angry': 0.06, 'Surprise': 0.21, 'Sad': 0.29, 'Fear': 0.29}, 'Eminem-cleanin-out-my-closet-lyrics': {'Happy': 0.05, 'Angry': 0.03, 'Surprise': 0.28, 'Sad': 0.44, 'Fear': 0.2}, 'Eminem-my-name-is-lyrics': {'Happy': 0.12, 'Angry': 0.12, 'Surprise': 0.32, 'Sad': 0.15, 'Fear': 0.29}, 'Eminem-space-bound-lyrics': {'Happy': 0.13, 'Angry': 0.05, 'Surprise': 0.2, 'Sad': 0.34, 'Fear': 0.28}, 'Eminem-guts-over-fear-lyrics': {'Happy': 0.1, 'Angry': 0.09, 'Surprise': 0.19, 'Sad': 0.37, 'Fear': 0.25}, 'Eminem-like-toy-soldiers-lyrics': {'Happy': 0.11, 'Angry': 0.1, 'Surprise': 0.22, 'Sad': 0.3, 'Fear': 0.27}, 'Eminem-the-way-i-am-lyrics': {'Happy': 0.15, 'Angry': 0.02, 'Surprise': 0.3, 'Sad': 0.23, 'Fear': 0.31}, 'Eminem-superman-lyrics': {'Happy': 0.2, 'Angry': 0.03, 'Surprise': 0.31, 'Sad': 0.29, 'Fear': 0.17}, 'Eminem-sing-for-the-moment-lyrics': {'Happy': 0.15, 'Angry': 0.11, 'Surprise': 0.28, 'Sad': 0.3, 'Fear': 0.17}, 'Eminem-detroit-vs-everybody-lyrics': {'Happy': 0.1, 'Angry': 0.11, 'Surprise': 0.26, 'Sad': 0.3, 'Fear': 0.23}, 'Eminem-untouchable-lyrics': {'Happy': 0.11, 'Angry': 0.05, 'Surprise': 0.27, 'Sad': 0.22, 'Fear': 0.35}, 'Eminem-so-much-better-lyrics': {'Happy': 0.08, 'Angry': 0.03, 'Surprise': 0.35, 'Sad': 0.26, 'Fear': 0.28}, 'Eminem-marshall-mathers-lyrics': {'Happy': 0.14, 'Angry': 0.1, 'Surprise': 0.21, 'Sad': 0.32, 'Fear': 0.24}, 'Eminem-stepping-stone-lyrics': {'Happy': 0.06, 'Angry': 0.1, 'Surprise': 0.24, 'Sad': 0.29, 'Fear': 0.31}, 'Eminem-criminal-lyrics': {'Happy': 0.07, 'Angry': 0.13, 'Surprise': 0.33, 'Sad': 0.3, 'Fear': 0.17}, 'Eminem-chloraseptic-remix-lyrics': {'Happy': 0.09, 'Angry': 0.06, 'Surprise': 0.26, 'Sad': 0.27, 'Fear': 0.32}, 'Eminem-kings-never-die-lyrics': {'Happy': 0.09, 'Angry': 0.1, 'Surprise': 0.32, 'Sad': 0.2, 'Fear': 0.29}, 'Eminem-im-back-lyrics': {'Happy': 0.11, 'Angry': 0.08, 'Surprise': 0.35, 'Sad': 0.16, 'Fear': 0.3}, 'Eminem-asshole-lyrics': {'Happy': 0.13, 'Angry': 0.08, 'Surprise': 0.34, 'Sad': 0.25, 'Fear': 0.21}, 'Eminem-just-dont-give-a-fuck-lyrics': {'Happy': 0.2, 'Angry': 0.1, 'Surprise': 0.16, 'Sad': 0.27, 'Fear': 0.27}, 'Eminem-phenomenal-lyrics': {'Happy': 0.07, 'Angry': 0.07, 'Surprise': 0.36, 'Sad': 0.22, 'Fear': 0.27}, 'Eminem-infinite-lyrics': {'Happy': 0.06, 'Angry': 0.05, 'Surprise': 0.28, 'Sad': 0.22, 'Fear': 0.39}, 'Eminem-white-america-lyrics': {'Happy': 0.21, 'Angry': 0.09, 'Surprise': 0.18, 'Sad': 0.11, 'Fear': 0.42}, 'Eminem-good-guy-lyrics': {'Happy': 0.22, 'Angry': 0.05, 'Surprise': 0.15, 'Sad': 0.25, 'Fear': 0.33}, 'Eminem-normal-lyrics': {'Happy': 0.07, 'Angry': 0.08, 'Surprise': 0.32, 'Sad': 0.26, 'Fear': 0.26}, 'Eminem-bet-shady-20-cypher-lyrics': {'Happy': 0.09, 'Angry': 0.1, 'Surprise': 0.21, 'Sad': 0.32, 'Fear': 0.29}, 'Eminem-brainless-lyrics': {'Happy': 0.13, 'Angry': 0.09, 'Surprise': 0.26, 'Sad': 0.2, 'Fear': 0.33}, 'Eminem-and-jessie-reyez-nice-guy-lyrics': {'Happy': 0.17, 'Angry': 0.13, 'Surprise': 0.2, 'Sad': 0.27, 'Fear': 0.23}, 'Eminem-fack-lyrics': {'Happy': 0.27, 'Angry': 0.01, 'Surprise': 0.39, 'Sad': 0.16, 'Fear': 0.17}, 'Eminem-framed-lyrics': {'Happy': 0.07, 'Angry': 0.07, 'Surprise': 0.24, 'Sad': 0.3, 'Fear': 0.32}, 'Eminem-hailies-song-lyrics': {'Happy': 0.16, 'Angry': 0.02, 'Surprise': 0.27, 'Sad': 0.26, 'Fear': 0.29}, 'Eminem-arose-lyrics': {'Happy': 0.11, 'Angry': 0.06, 'Surprise': 0.26, 'Sad': 0.33, 'Fear': 0.23}, 'Eminem-ass-like-that-lyrics': {'Happy': 0.23, 'Angry': 0.12, 'Surprise': 0.2, 'Sad': 0.33, 'Fear': 0.12}, 'Eminem-cold-wind-blows-lyrics': {'Happy': 0.14, 'Angry': 0.09, 'Surprise': 0.39, 'Sad': 0.22, 'Fear': 0.16}, 'Eminem-just-lose-it-lyrics': {'Happy': 0.06, 'Angry': 0.02, 'Surprise': 0.35, 'Sad': 0.33, 'Fear': 0.25}, 'Eminem-bad-husband-lyrics': {'Happy': 0.23, 'Angry': 0.09, 'Surprise': 0.26, 'Sad': 0.26, 'Fear': 0.16}}\n",
    "# print(the_emotions_dict)"
   ]
  }
 ],
 "metadata": {
  "kernelspec": {
   "display_name": "Python 3 (ipykernel)",
   "language": "python",
   "name": "python3"
  },
  "language_info": {
   "codemirror_mode": {
    "name": "ipython",
    "version": 3
   },
   "file_extension": ".py",
   "mimetype": "text/x-python",
   "name": "python",
   "nbconvert_exporter": "python",
   "pygments_lexer": "ipython3",
   "version": "3.8.6"
  }
 },
 "nbformat": 4,
 "nbformat_minor": 5
}
