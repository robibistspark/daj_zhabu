{
 "cells": [
  {
   "cell_type": "code",
   "execution_count": 67,
   "metadata": {},
   "outputs": [],
   "source": [
    "import os\n",
    "import jsonlines\n",
    "import re\n",
    "import nltk\n",
    "from sklearn.feature_extraction.text import TfidfVectorizer\n",
    "from sklearn.decomposition import TruncatedSVD\n",
    "import matplotlib.pyplot as plt"
   ]
  },
  {
   "cell_type": "code",
   "execution_count": 138,
   "metadata": {},
   "outputs": [],
   "source": [
    "songs = []\n",
    "\n",
    "for i in os.listdir(path='./artists'):\n",
    "    with jsonlines.open('./artists/'+i,) as reader:\n",
    "        for obj in reader:\n",
    "            songs.append(obj)"
   ]
  },
  {
   "cell_type": "code",
   "execution_count": 157,
   "metadata": {
    "scrolled": true
   },
   "outputs": [
    {
     "data": {
      "text/plain": [
       "{'song': 'Taylor-swift-enchanted-lyrics',\n",
       " 'lyrics': '\\n\\n[Verse 1]\\nThere I was again tonight\\nForcing laughter, faking smiles\\nSame old tired, lonely place\\nWalls of insincerity, shifting eyes and vacancy\\nVanished when I saw your face\\nAll I can say is, it was enchanting to meet you\\n\\n[Verse 2]\\nYour eyes whispered, \"Have we met?\"\\nAcross the room your silhouette\\nStarts to make its way to me\\nThe playful conversation starts\\nCounter all your quick remarks\\nLike passing notes in secrecy\\nAnd it was enchanting to meet you\\nAll I can say is, I was enchanted to meet you\\n\\n[Chorus]\\nThis night is sparkling\\nDon\\'t you let it go\\nI\\'m wonderstruck\\nBlushing all the way home\\nI\\'ll spend forever\\nWondering if you knew\\nI was enchanted to meet you\\n\\n[Verse 3]\\nThe lingering question kept me up\\n2AM, who do you love?\\nI wonder \\'til I\\'m wide awake\\nAnd now I\\'m pacing back and forth\\nWishing you were at my door\\nI\\'d open up and you would say, \"Hey\"\\nIt was enchanting to meet you\\nAll I know is I was enchanted to meet you\\n\\n[Chorus 2]\\nThis night is sparkling\\nDon\\'t you let it go\\nI\\'m wonderstruck\\nBlushing all the way home\\nI\\'ll spend forever\\nWondering if you knew\\nThis night is flawless\\nDon\\'t you let it go\\nI\\'m wonderstruck\\nDancing around all alone\\nI\\'ll spend forever\\nWondering if you knew\\nI was enchanted to meet you\\n\\n[Bridge]\\nThis is me praying that\\nThis was the very first page\\nNot where the storyline ends\\nMy thoughts will echo your name\\nUntil I see you again\\nThese are the words I held back\\nAs I was leaving too soon\\nI was enchanted to meet you\\n\\n[Breakdown]\\nPlease don\\'t be in love\\nWith someone else\\nPlease don\\'t have somebody\\nWaiting on you\\nPlease don\\'t be in love\\nWith someone else\\nPlease don\\'t have somebody\\nWaiting on you\\n\\n[Chorus 2]\\nThis night is sparkling\\nDon\\'t you let it go\\nI\\'m wonderstruck\\nBlushing all the way home\\nI\\'ll spend forever\\nWondering if you knew\\nThis night is flawless\\nDon\\'t you let it go\\nI\\'m wonderstruck\\nDancing around all alone\\nI\\'ll spend forever\\nWondering if you knew\\nI was enchanted to meet you\\n\\n[Outro]\\nPlease don\\'t be in love\\nWith someone else\\nPlease don\\'t have somebody\\nWaiting on you\\n\\n'}"
      ]
     },
     "execution_count": 157,
     "metadata": {},
     "output_type": "execute_result"
    }
   ],
   "source": [
    "songs[50]"
   ]
  },
  {
   "cell_type": "code",
   "execution_count": 139,
   "metadata": {},
   "outputs": [],
   "source": [
    "lemzr = nltk.stem.WordNetLemmatizer()\n",
    "\n",
    "songs_preprocessed = []\n",
    "\n",
    "for i in songs:\n",
    "    j = re.sub('\\[.+?\\]', '', i['lyrics'])\n",
    "    j = nltk.wordpunct_tokenize(j)\n",
    "    j = \" \".join([lemzr.lemmatize(i).lower() for i in j])\n",
    "    songs_preprocessed.append(j)"
   ]
  },
  {
   "cell_type": "code",
   "execution_count": 127,
   "metadata": {},
   "outputs": [
    {
     "data": {
      "text/plain": [
       "\"when i find myself in time of trouble , mother mary come to me speaking word of wisdom , “ let it be ” and in my hour of darkness , she is standing right in front of me speaking word of wisdom , “ let it be ” let it be , let it be let it be , let it be whisper word of wisdom let it be and when the brokenhearted people living in the world agree there will be an answer , let it be for though they may be parted , there is still a chance that they will see there will be an answer , let it be let it be , let it be let it be , let it be yeah , there will be an answer let it be let it be , let it be let it be , let it be whisper word of wisdom let it be let it be , let it be let it be , yeah , let it be whisper word of wisdom let it be and when the night is cloudy , there is still a light that shine on me shine on ' til tomorrow , let it be i wake up to the sound of music , mother mary come to me speaking word of wisdom , let it be let it be , let it be let it be , yeah , let it be there will be an answer let it be let it be , let it be let it be , yeah , let it be there will be an answer let it be let it be , let it be let it be , yeah , let it be whisper word of wisdom let it be\""
      ]
     },
     "execution_count": 127,
     "metadata": {},
     "output_type": "execute_result"
    }
   ],
   "source": [
    "songs_preprocessed[0]"
   ]
  },
  {
   "cell_type": "code",
   "execution_count": 140,
   "metadata": {},
   "outputs": [],
   "source": [
    "tfidf = TfidfVectorizer(analyzer=\"word\", stop_words='english', min_df=3)\n",
    "\n",
    "songs_tfidf = tfidf.fit_transform(songs_preprocessed)"
   ]
  },
  {
   "cell_type": "code",
   "execution_count": 141,
   "metadata": {},
   "outputs": [
    {
     "data": {
      "text/plain": [
       "<60x603 sparse matrix of type '<class 'numpy.float64'>'\n",
       "\twith 3948 stored elements in Compressed Sparse Row format>"
      ]
     },
     "execution_count": 141,
     "metadata": {},
     "output_type": "execute_result"
    }
   ],
   "source": [
    "songs_tfidf"
   ]
  },
  {
   "cell_type": "code",
   "execution_count": 142,
   "metadata": {},
   "outputs": [],
   "source": [
    "svd = TruncatedSVD(n_components=2)\n",
    "\n",
    "two_dim_vectors = svd.fit_transform(songs_tfidf)"
   ]
  },
  {
   "cell_type": "code",
   "execution_count": 143,
   "metadata": {},
   "outputs": [
    {
     "data": {
      "text/plain": [
       "array([[ 0.18280622, -0.3310122 ],\n",
       "       [ 0.1789588 ,  0.02077443],\n",
       "       [ 0.19509573, -0.06392276],\n",
       "       [ 0.32410169, -0.18546424],\n",
       "       [ 0.10988623,  0.0138291 ]])"
      ]
     },
     "execution_count": 143,
     "metadata": {},
     "output_type": "execute_result"
    }
   ],
   "source": [
    "two_dim_vectors[:5]"
   ]
  },
  {
   "cell_type": "code",
   "execution_count": 165,
   "metadata": {},
   "outputs": [
    {
     "data": {
      "text/plain": [
       "<Figure size 7200x7200 with 0 Axes>"
      ]
     },
     "execution_count": 165,
     "metadata": {},
     "output_type": "execute_result"
    },
    {
     "data": {
      "image/png": "[encoded data removed]",
      "text/plain": [
       "<Figure size 432x288 with 1 Axes>"
      ]
     },
     "metadata": {
      "needs_background": "light"
     },
     "output_type": "display_data"
    },
    {
     "data": {
      "text/plain": [
       "<Figure size 7200x7200 with 0 Axes>"
      ]
     },
     "metadata": {},
     "output_type": "display_data"
    }
   ],
   "source": [
    "plt.scatter(two_dim_vectors[:10, 0], two_dim_vectors[:10, 1], color='red', label='The Beatles')\n",
    "plt.scatter(two_dim_vectors[10:20, 0], two_dim_vectors[10:20, 1], color='blue', label='Drake')\n",
    "plt.scatter(two_dim_vectors[20:30, 0], two_dim_vectors[20:30, 1], color='green', label='Eminem')\n",
    "plt.scatter(two_dim_vectors[30:40, 0], two_dim_vectors[30:40, 1], color='orange', label='50 Cent')\n",
    "plt.scatter(two_dim_vectors[40:50, 0], two_dim_vectors[40:50, 1], color='grey', label='Lana Del Rey')\n",
    "plt.scatter(two_dim_vectors[50:60, 0], two_dim_vectors[50:60, 1], color='purple', label='Taylor Swift')\n",
    "plt.title('Песни 6 исполнителей по 2 главным компонентам tfidf')\n",
    "plt.legend(loc='best')\n",
    "plt.figure(figsize = (100, 100))"
   ]
  },
  {
   "cell_type": "code",
   "execution_count": 163,
   "metadata": {},
   "outputs": [
    {
     "data": {
      "text/plain": [
       "<matplotlib.legend.Legend at 0x17eea43b5b0>"
      ]
     },
     "execution_count": 163,
     "metadata": {},
     "output_type": "execute_result"
    },
    {
     "data": {
      "image/png": "[encoded data removed]",
      "text/plain": [
       "<Figure size 432x288 with 1 Axes>"
      ]
     },
     "metadata": {
      "needs_background": "light"
     },
     "output_type": "display_data"
    }
   ],
   "source": [
    "plt.scatter(two_dim_vectors[30:40, 0], two_dim_vectors[30:40, 1], color='orange', label='50 Cent')\n",
    "plt.scatter(two_dim_vectors[40:50, 0], two_dim_vectors[40:50, 1], color='grey', label='Lana Del Rey')\n",
    "plt.scatter(two_dim_vectors[50:60, 0], two_dim_vectors[50:60, 1], color='purple', label='Taylor Swift')\n",
    "plt.title('Поп vs. рэп')\n",
    "plt.legend(loc='best')"
   ]
  },
  {
   "cell_type": "code",
   "execution_count": 164,
   "metadata": {},
   "outputs": [
    {
     "data": {
      "text/plain": [
       "<matplotlib.legend.Legend at 0x17eea48c5b0>"
      ]
     },
     "execution_count": 164,
     "metadata": {},
     "output_type": "execute_result"
    },
    {
     "data": {
      "image/png": "[encoded data removed]",
      "text/plain": [
       "<Figure size 432x288 with 1 Axes>"
      ]
     },
     "metadata": {
      "needs_background": "light"
     },
     "output_type": "display_data"
    }
   ],
   "source": [
    "plt.scatter(two_dim_vectors[10:20, 0], two_dim_vectors[10:20, 1], color='blue', label='Drake')\n",
    "plt.scatter(two_dim_vectors[20:30, 0], two_dim_vectors[20:30, 1], color='green', label='Eminem')\n",
    "plt.scatter(two_dim_vectors[30:40, 0], two_dim_vectors[30:40, 1], color='orange', label='50 Cent')\n",
    "plt.title('Разные рэперы')\n",
    "plt.legend(loc='best')"
   ]
  }
 ],
 "metadata": {
  "kernelspec": {
   "display_name": "Python 3",
   "language": "python",
   "name": "python3"
  },
  "language_info": {
   "codemirror_mode": {
    "name": "ipython",
    "version": 3
   },
   "file_extension": ".py",
   "mimetype": "text/x-python",
   "name": "python",
   "nbconvert_exporter": "python",
   "pygments_lexer": "ipython3",
   "version": "3.8.3"
  }
 },
 "nbformat": 4,
 "nbformat_minor": 4
}
